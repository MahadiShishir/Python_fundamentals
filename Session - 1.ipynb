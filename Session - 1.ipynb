{
 "cells": [
  {
   "cell_type": "markdown",
   "id": "e79365f9",
   "metadata": {},
   "source": [
    "## Variable assigning with text message\n",
    "- Variables with multiple words have to write using underscore."
   ]
  },
  {
   "cell_type": "code",
   "execution_count": 64,
   "id": "02583e53",
   "metadata": {
    "scrolled": true
   },
   "outputs": [
    {
     "name": "stdout",
     "output_type": "stream",
     "text": [
      "Player Name:  Andres Iniesta\n",
      "Birth Year:  1985\n",
      "Height:  5.4\n",
      "Is he one of the greatest ones? :  True\n"
     ]
    }
   ],
   "source": [
    "name = 'Andres Iniesta'\n",
    "birth_year = 1985\n",
    "height = 5.4\n",
    "Is_he_a_goat = True\n",
    "\n",
    "print ('Player Name: ', name)\n",
    "print ('Birth Year: ', birth_year)\n",
    "print ('Height: ', height)\n",
    "print ('Is he one of the greatest ones? : ', Is_he_a_goat)"
   ]
  },
  {
   "cell_type": "markdown",
   "id": "58a7ed07",
   "metadata": {},
   "source": [
    "## Logical Operators"
   ]
  },
  {
   "cell_type": "code",
   "execution_count": 18,
   "id": "6144a994",
   "metadata": {},
   "outputs": [
    {
     "name": "stdout",
     "output_type": "stream",
     "text": [
      "True\n",
      "False\n",
      "True\n",
      "True\n"
     ]
    }
   ],
   "source": [
    "a = 3\n",
    "b = 4\n",
    "c = 5\n",
    "d = 7\n",
    "#print (a>b and a!=d)\n",
    "#print (b>d or d< c)\n",
    "#print (b>a and d>=a)\n",
    "\n",
    "print (True or False)\n",
    "print (True and False)\n",
    "print (False or True)\n",
    "print (not False and True)"
   ]
  },
  {
   "cell_type": "markdown",
   "id": "46149315",
   "metadata": {},
   "source": [
    "## Membership Operator\n",
    "\n",
    "```python\n",
    "a= 'abul'\n",
    "b= 'babul'\n",
    "c= 'kabul'\n",
    "print (a in b)\n",
    "print (b in a)\n",
    "print (a in c)\n",
    "```"
   ]
  },
  {
   "cell_type": "code",
   "execution_count": 2,
   "id": "49520ebc",
   "metadata": {},
   "outputs": [
    {
     "name": "stdout",
     "output_type": "stream",
     "text": [
      "True\n",
      "False\n",
      "True\n"
     ]
    }
   ],
   "source": [
    "a= 'abul'\n",
    "b= 'babul'\n",
    "c= 'kabul'\n",
    "print (a in b)\n",
    "print (b in a)\n",
    "print (a in c)\n",
    "#If something from a variable is common in another, we can use the 'in' "
   ]
  },
  {
   "cell_type": "markdown",
   "id": "d98fbef4",
   "metadata": {},
   "source": [
    "## String Manipulation"
   ]
  },
  {
   "cell_type": "markdown",
   "id": "92589804",
   "metadata": {},
   "source": [
    "- **How to capitalize the first letter of a string?**\n",
    "\n",
    "    Notes: \n",
    "    - We can save the change of a string to an another string. Here, actual string won't be changed.\n",
    "    - Saving a string into a new one after completing a operation is a good habit in coding.\n",
    "    "
   ]
  },
  {
   "cell_type": "code",
   "execution_count": 11,
   "id": "7bc982db",
   "metadata": {},
   "outputs": [
    {
     "name": "stdout",
     "output_type": "stream",
     "text": [
      "Messi\n",
      "messi\n"
     ]
    }
   ],
   "source": [
    "string = 'messi'\n",
    "str_cap = string.capitalize()\n",
    "print (str_cap) #changed string\n",
    "print (string) #actual string"
   ]
  },
  {
   "cell_type": "markdown",
   "id": "fe87383e",
   "metadata": {},
   "source": [
    "- **How to find the frequency of a substring?**"
   ]
  },
  {
   "cell_type": "code",
   "execution_count": 13,
   "id": "5e64dc2b",
   "metadata": {},
   "outputs": [
    {
     "name": "stdout",
     "output_type": "stream",
     "text": [
      "2\n"
     ]
    }
   ],
   "source": [
    "string.count('s')\n",
    "str_cnt = string.count('s') #saving the change in string into a new string.\n",
    "print (str_cnt)"
   ]
  },
  {
   "cell_type": "code",
   "execution_count": 18,
   "id": "60ed8543",
   "metadata": {},
   "outputs": [
    {
     "data": {
      "text/plain": [
       "True"
      ]
     },
     "execution_count": 18,
     "metadata": {},
     "output_type": "execute_result"
    }
   ],
   "source": [
    "string.endswith ('i')"
   ]
  },
  {
   "cell_type": "code",
   "execution_count": 19,
   "id": "50d9943e",
   "metadata": {},
   "outputs": [
    {
     "data": {
      "text/plain": [
       "False"
      ]
     },
     "execution_count": 19,
     "metadata": {},
     "output_type": "execute_result"
    }
   ],
   "source": [
    "string.startswith ('i')"
   ]
  },
  {
   "cell_type": "markdown",
   "id": "09b0626d",
   "metadata": {},
   "source": [
    "###  String Slicing\n",
    "- Using indexing method"
   ]
  },
  {
   "cell_type": "code",
   "execution_count": 38,
   "id": "ee1784c2",
   "metadata": {},
   "outputs": [
    {
     "name": "stdout",
     "output_type": "stream",
     "text": [
      "BD\n",
      "l\n"
     ]
    },
    {
     "data": {
      "text/plain": [
       "7"
      ]
     },
     "execution_count": 38,
     "metadata": {},
     "output_type": "execute_result"
    }
   ],
   "source": [
    "string = 'I love BD'\n",
    "string [7]\n",
    "print (string [7: 9]) #To choose from an index number from all the way to other - we use colon (:)\n",
    "len (string)\n",
    "print (string[-7])\n",
    "string.index('BD') #If the string is too long, we can find the index number in this way.\n"
   ]
  },
  {
   "cell_type": "markdown",
   "id": "6e22f19a",
   "metadata": {},
   "source": [
    "- **How to find if a string starts and ends with a substring?**"
   ]
  },
  {
   "cell_type": "code",
   "execution_count": 41,
   "id": "5eafc429",
   "metadata": {},
   "outputs": [
    {
     "data": {
      "text/plain": [
       "'I LOVE BD'"
      ]
     },
     "execution_count": 41,
     "metadata": {},
     "output_type": "execute_result"
    }
   ],
   "source": [
    "string.lower()\n",
    "string.upper()"
   ]
  },
  {
   "cell_type": "code",
   "execution_count": 43,
   "id": "3d7a53ee",
   "metadata": {},
   "outputs": [
    {
     "name": "stdout",
     "output_type": "stream",
     "text": [
      "<class 'int'>\n"
     ]
    }
   ],
   "source": [
    "print(type(1000))"
   ]
  },
  {
   "cell_type": "markdown",
   "id": "84f9a7c9",
   "metadata": {},
   "source": [
    "- **How to remove spaces from a string?**"
   ]
  },
  {
   "cell_type": "code",
   "execution_count": 53,
   "id": "4ac4cf8e",
   "metadata": {},
   "outputs": [
    {
     "data": {
      "text/plain": [
       "'I love BD'"
      ]
     },
     "execution_count": 53,
     "metadata": {},
     "output_type": "execute_result"
    }
   ],
   "source": [
    "string1= ' I love BD'\n",
    "string1.lstrip()\n",
    "string2 = 'I love BD  '\n",
    "string2.rstrip ()"
   ]
  },
  {
   "cell_type": "markdown",
   "id": "f2495260",
   "metadata": {},
   "source": [
    "- **How to replace a substring inside a string?**\n",
    "    - soundex engine, pyspellchecker, libraries like - nltk, textblob"
   ]
  },
  {
   "cell_type": "code",
   "execution_count": 56,
   "id": "ac27d421",
   "metadata": {},
   "outputs": [
    {
     "data": {
      "text/plain": [
       "'Dython is a high-level programming language'"
      ]
     },
     "execution_count": 56,
     "metadata": {},
     "output_type": "execute_result"
    }
   ],
   "source": [
    "string = 'Dython is a high-level drogramming language'\n",
    "string.replace('d', 'p')"
   ]
  },
  {
   "cell_type": "code",
   "execution_count": 57,
   "id": "b1049ca3",
   "metadata": {},
   "outputs": [
    {
     "data": {
      "text/plain": [
       "'python is a high-level programming language'"
      ]
     },
     "execution_count": 57,
     "metadata": {},
     "output_type": "execute_result"
    }
   ],
   "source": [
    "string = 'dython is a high-level drogramming language'\n",
    "string.replace('d', 'p')"
   ]
  },
  {
   "cell_type": "markdown",
   "id": "0d079ecd",
   "metadata": {},
   "source": [
    "- **How to find the presence of an alphanumeric character, alphabet or digit?**\n",
    "    - alpha means only alphabet; alphanumeric means both alphabet & numerics\n",
    "    - string.isalpha ()\n",
    "    - string.isdigit ()\n",
    "    - string.isalnum()"
   ]
  },
  {
   "cell_type": "code",
   "execution_count": 60,
   "id": "13eb32bc",
   "metadata": {},
   "outputs": [
    {
     "data": {
      "text/plain": [
       "True"
      ]
     },
     "execution_count": 60,
     "metadata": {},
     "output_type": "execute_result"
    }
   ],
   "source": [
    "string = 'sakibalhasan'\n",
    "string.isalpha ()"
   ]
  },
  {
   "cell_type": "code",
   "execution_count": 63,
   "id": "9e1104e1",
   "metadata": {},
   "outputs": [
    {
     "name": "stdout",
     "output_type": "stream",
     "text": [
      "False\n",
      "False\n",
      "True\n"
     ]
    }
   ],
   "source": [
    "string = 'sakibalhasan75' # Spacing in the strings, characters are not included in alphanumeric. Hence it would appear false during checking.\n",
    "print (string.isalpha ())\n",
    "print (string.isdigit())\n",
    "print (string.isalnum())"
   ]
  },
  {
   "cell_type": "markdown",
   "id": "c26f6764",
   "metadata": {},
   "source": [
    "## List Manipulation"
   ]
  },
  {
   "cell_type": "code",
   "execution_count": 7,
   "id": "458d4310",
   "metadata": {},
   "outputs": [
    {
     "name": "stdout",
     "output_type": "stream",
     "text": [
      "['abbu', 'ammu', 'vaia', 'apu', 'ami']\n",
      "<class 'list'>\n",
      "['abbu', 5.2, 'ammu', 5.1, 'vaia', 'apu', True]\n",
      "<class 'list'>\n"
     ]
    }
   ],
   "source": [
    "family = ['abbu', 'ammu', 'vaia', 'apu', 'ami']\n",
    "print (family)\n",
    "print (type (family))\n",
    "family_p = ['abbu', 5.2, 'ammu', 5.1, 'vaia', 'apu', True]\n",
    "print (family_p)\n",
    "print (type(family_p))"
   ]
  },
  {
   "cell_type": "code",
   "execution_count": 14,
   "id": "9311aad3",
   "metadata": {},
   "outputs": [
    {
     "name": "stdout",
     "output_type": "stream",
     "text": [
      "True\n",
      "5.2\n",
      "['abbu', 5.2, 'ammu', 5.1]\n",
      "['abbu', 5.2, 'ammu', 5.1, 'vaia', 'apu']\n",
      "['ammu', 5.1, 'vaia', 'apu', True]\n"
     ]
    }
   ],
   "source": [
    "print (family_p [-1])\n",
    "print (family_p [1])\n",
    "print (family_p [0:4])\n",
    "print (family_p [:6])\n",
    "print (family_p [2:])"
   ]
  },
  {
   "cell_type": "code",
   "execution_count": 15,
   "id": "4a62534c",
   "metadata": {},
   "outputs": [
    {
     "name": "stdout",
     "output_type": "stream",
     "text": [
      "['abbu', 'ammu', 'vaia', 'apu', 'ami', 'abbu', 5.2, 'ammu', 5.1, 'vaia', 'apu', True]\n"
     ]
    }
   ],
   "source": [
    "family_members = family + family_p\n",
    "print (family_members)"
   ]
  },
  {
   "cell_type": "markdown",
   "id": "acab4522",
   "metadata": {},
   "source": [
    "# Summary\n",
    " - Variable assigning with text message\n",
    " - Logical Operators\n",
    " - Membership Operator\n",
    " - String Manipulation\n",
    " - List Manipulation"
   ]
  }
 ],
 "metadata": {
  "kernelspec": {
   "display_name": "Python 3 (ipykernel)",
   "language": "python",
   "name": "python3"
  },
  "language_info": {
   "codemirror_mode": {
    "name": "ipython",
    "version": 3
   },
   "file_extension": ".py",
   "mimetype": "text/x-python",
   "name": "python",
   "nbconvert_exporter": "python",
   "pygments_lexer": "ipython3",
   "version": "3.9.12"
  }
 },
 "nbformat": 4,
 "nbformat_minor": 5
}
